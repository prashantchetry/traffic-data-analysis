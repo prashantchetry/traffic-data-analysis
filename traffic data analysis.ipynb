{
    "cells": [
        {
            "cell_type": "code",
            "execution_count": 2,
            "metadata": {},
            "outputs": [
                {
                    "name": "stdout",
                    "output_type": "stream",
                    "text": "Requirement already up-to-date: pixiedust in /opt/conda/envs/Python36/lib/python3.6/site-packages (1.1.17)\nRequirement already satisfied, skipping upgrade: markdown in /opt/conda/envs/Python36/lib/python3.6/site-packages (from pixiedust) (3.0.1)\nRequirement already satisfied, skipping upgrade: mpld3 in /opt/conda/envs/Python36/lib/python3.6/site-packages (from pixiedust) (0.3)\nRequirement already satisfied, skipping upgrade: colour in /opt/conda/envs/Python36/lib/python3.6/site-packages (from pixiedust) (0.1.5)\nRequirement already satisfied, skipping upgrade: geojson in /opt/conda/envs/Python36/lib/python3.6/site-packages (from pixiedust) (2.4.1)\nRequirement already satisfied, skipping upgrade: requests in /opt/conda/envs/Python36/lib/python3.6/site-packages (from pixiedust) (2.21.0)\nRequirement already satisfied, skipping upgrade: astunparse in /opt/conda/envs/Python36/lib/python3.6/site-packages (from pixiedust) (1.6.2)\nRequirement already satisfied, skipping upgrade: lxml in /opt/conda/envs/Python36/lib/python3.6/site-packages (from pixiedust) (4.3.1)\nRequirement already satisfied, skipping upgrade: idna<2.9,>=2.5 in /opt/conda/envs/Python36/lib/python3.6/site-packages (from requests->pixiedust) (2.8)\nRequirement already satisfied, skipping upgrade: certifi>=2017.4.17 in /opt/conda/envs/Python36/lib/python3.6/site-packages (from requests->pixiedust) (2019.9.11)\nRequirement already satisfied, skipping upgrade: chardet<3.1.0,>=3.0.2 in /opt/conda/envs/Python36/lib/python3.6/site-packages (from requests->pixiedust) (3.0.4)\nRequirement already satisfied, skipping upgrade: urllib3<1.25,>=1.21.1 in /opt/conda/envs/Python36/lib/python3.6/site-packages (from requests->pixiedust) (1.24.1)\nRequirement already satisfied, skipping upgrade: wheel<1.0,>=0.23.0 in /opt/conda/envs/Python36/lib/python3.6/site-packages (from astunparse->pixiedust) (0.32.3)\nRequirement already satisfied, skipping upgrade: six<2.0,>=1.6.1 in /opt/conda/envs/Python36/lib/python3.6/site-packages (from astunparse->pixiedust) (1.12.0)\n"
                }
            ],
            "source": "!pip install --upgrade pixiedust"
        },
        {
            "cell_type": "code",
            "execution_count": 3,
            "metadata": {},
            "outputs": [
                {
                    "name": "stdout",
                    "output_type": "stream",
                    "text": "Collecting bokeh==0.12.6\n\u001b[?25l  Downloading https://files.pythonhosted.org/packages/45/6c/6d1ad9da2e713f69d3df6e4e5eb3e8f971db03e66f3154c9e5ab142a6bd8/bokeh-0.12.6.tar.gz (13.7MB)\n\u001b[K     |\u2588\u2588\u2588\u2588\u2588\u2588\u2588\u2588\u2588\u2588\u2588\u2588\u2588\u2588\u2588\u2588\u2588\u2588\u2588\u2588\u2588\u2588\u2588\u2588\u2588\u2588\u2588\u2588\u2588\u2588\u2588\u2588| 13.7MB 10.7MB/s eta 0:00:01\n\u001b[?25hRequirement already satisfied, skipping upgrade: six>=1.5.2 in /opt/conda/envs/Python36/lib/python3.6/site-packages (from bokeh==0.12.6) (1.12.0)\nRequirement already satisfied, skipping upgrade: requests>=1.2.3 in /opt/conda/envs/Python36/lib/python3.6/site-packages (from bokeh==0.12.6) (2.21.0)\nRequirement already satisfied, skipping upgrade: PyYAML>=3.10 in /opt/conda/envs/Python36/lib/python3.6/site-packages (from bokeh==0.12.6) (3.13)\nRequirement already satisfied, skipping upgrade: python-dateutil>=2.1 in /opt/conda/envs/Python36/lib/python3.6/site-packages (from bokeh==0.12.6) (2.7.5)\nRequirement already satisfied, skipping upgrade: Jinja2>=2.7 in /opt/conda/envs/Python36/lib/python3.6/site-packages (from bokeh==0.12.6) (2.10)\nRequirement already satisfied, skipping upgrade: numpy>=1.7.1 in /opt/conda/envs/Python36/lib/python3.6/site-packages (from bokeh==0.12.6) (1.15.4)\nRequirement already satisfied, skipping upgrade: tornado>=4.3 in /opt/conda/envs/Python36/lib/python3.6/site-packages (from bokeh==0.12.6) (5.1.1)\nRequirement already satisfied, skipping upgrade: bkcharts>=0.2 in /opt/conda/envs/Python36/lib/python3.6/site-packages (from bokeh==0.12.6) (0.2)\nRequirement already satisfied, skipping upgrade: urllib3<1.25,>=1.21.1 in /opt/conda/envs/Python36/lib/python3.6/site-packages (from requests>=1.2.3->bokeh==0.12.6) (1.24.1)\nRequirement already satisfied, skipping upgrade: idna<2.9,>=2.5 in /opt/conda/envs/Python36/lib/python3.6/site-packages (from requests>=1.2.3->bokeh==0.12.6) (2.8)\nRequirement already satisfied, skipping upgrade: chardet<3.1.0,>=3.0.2 in /opt/conda/envs/Python36/lib/python3.6/site-packages (from requests>=1.2.3->bokeh==0.12.6) (3.0.4)\nRequirement already satisfied, skipping upgrade: certifi>=2017.4.17 in /opt/conda/envs/Python36/lib/python3.6/site-packages (from requests>=1.2.3->bokeh==0.12.6) (2019.9.11)\nRequirement already satisfied, skipping upgrade: MarkupSafe>=0.23 in /opt/conda/envs/Python36/lib/python3.6/site-packages (from Jinja2>=2.7->bokeh==0.12.6) (1.1.0)\nBuilding wheels for collected packages: bokeh\n  Building wheel for bokeh (setup.py) ... \u001b[?25ldone\n\u001b[?25h  Stored in directory: /home/dsxuser/.cache/pip/wheels/dc/87/e8/c30921d2e3f4f1c257d83a1e38774b9ffb9d24e493b70a7440\nSuccessfully built bokeh\nInstalling collected packages: bokeh\n  Found existing installation: bokeh 1.0.4\n    Uninstalling bokeh-1.0.4:\n      Successfully uninstalled bokeh-1.0.4\nSuccessfully installed bokeh-0.12.6\n"
                }
            ],
            "source": "!pip install --upgrade bokeh==0.12.6"
        },
        {
            "cell_type": "code",
            "execution_count": 4,
            "metadata": {},
            "outputs": [
                {
                    "name": "stdout",
                    "output_type": "stream",
                    "text": "Pixiedust database opened successfully\nTable VERSION_TRACKER created successfully\nTable METRICS_TRACKER created successfully\n\nShare anonymous install statistics? (opt-out instructions)\n\nPixieDust will record metadata on its environment the next time the package is installed or updated. The data is anonymized and aggregated to help plan for future releases, and records only the following values:\n\n{\n   \"data_sent\": currentDate,\n   \"runtime\": \"python\",\n   \"application_version\": currentPixiedustVersion,\n   \"space_id\": nonIdentifyingUniqueId,\n   \"config\": {\n       \"repository_id\": \"https://github.com/ibm-watson-data-lab/pixiedust\",\n       \"target_runtimes\": [\"Data Science Experience\"],\n       \"event_id\": \"web\",\n       \"event_organizer\": \"dev-journeys\"\n   }\n}\nYou can opt out by calling pixiedust.optOut() in a new cell.\n"
                },
                {
                    "data": {
                        "text/html": "\n        <div style=\"margin:10px\">\n            <a href=\"https://github.com/ibm-watson-data-lab/pixiedust\" target=\"_new\">\n                <img src=\"https://github.com/ibm-watson-data-lab/pixiedust/raw/master/docs/_static/pd_icon32.png\" style=\"float:left;margin-right:10px\"/>\n            </a>\n            <span>Pixiedust version 1.1.17</span>\n        </div>\n        ",
                        "text/plain": "<IPython.core.display.HTML object>"
                    },
                    "metadata": {},
                    "output_type": "display_data"
                },
                {
                    "name": "stdout",
                    "output_type": "stream",
                    "text": "\u001b[31mPixiedust runtime updated. Please restart kernel\u001b[0m\nTable USER_PREFERENCES created successfully\nTable service_connections created successfully\n"
                }
            ],
            "source": "import pixiedust"
        },
        {
            "cell_type": "code",
            "execution_count": 5,
            "metadata": {
                "scrolled": true
            },
            "outputs": [
                {
                    "name": "stdout",
                    "output_type": "stream",
                    "text": "Downloading 'https://data.sfgov.org/api/views/ybh5-27n2/rows.csv?accessType=DOWNLOAD' from https://data.sfgov.org/api/views/ybh5-27n2/rows.csv?accessType=DOWNLOAD\nDownloaded 323241 bytes\nCreating pandas DataFrame for 'https://data.sfgov.org/api/views/ybh5-27n2/rows.csv?accessType=DOWNLOAD'. Please wait...\nLoading file using 'pandas'\nSuccessfully created pandas DataFrame for 'https://data.sfgov.org/api/views/ybh5-27n2/rows.csv?accessType=DOWNLOAD'\n"
                }
            ],
            "source": "incidents= pixiedust.sampleData(\"https://data.sfgov.org/api/views/ybh5-27n2/rows.csv?accessType=DOWNLOAD\")"
        },
        {
            "cell_type": "code",
            "execution_count": 7,
            "metadata": {
                "pixiedust": {
                    "displayParams": {
                        "chartsize": "71",
                        "handlerId": "downloadFile",
                        "keyFields": "STREET1,STREET2,STREET3,STREET4",
                        "legend": "false",
                        "valueFields": "OBJECTID",
                        "ylabel": "false"
                    }
                }
            },
            "outputs": [
                {
                    "data": {
                        "text/html": "<style type=\"text/css\">.pd_warning{display:none;}</style><div class=\"pd_warning\"><em>Hey, there's something awesome here! To see it, open this notebook outside GitHub, in a viewer like Jupyter</em></div>",
                        "text/plain": "<IPython.core.display.HTML object>"
                    },
                    "metadata": {},
                    "output_type": "display_data"
                }
            ],
            "source": "display(incidents)\n"
        },
        {
            "cell_type": "code",
            "execution_count": 8,
            "metadata": {},
            "outputs": [
                {
                    "data": {
                        "text/html": "<div>\n<style scoped>\n    .dataframe tbody tr th:only-of-type {\n        vertical-align: middle;\n    }\n\n    .dataframe tbody tr th {\n        vertical-align: top;\n    }\n\n    .dataframe thead th {\n        text-align: right;\n    }\n</style>\n<table border=\"1\" class=\"dataframe\">\n  <thead>\n    <tr style=\"text-align: right;\">\n      <th></th>\n      <th>OBJECTID</th>\n      <th>CNN</th>\n      <th>CODE</th>\n      <th>CNN_1</th>\n      <th>STREET1</th>\n      <th>STREET2</th>\n      <th>STREET3</th>\n      <th>STREET4</th>\n      <th>DETECTION</th>\n      <th>SUP_DIST</th>\n      <th>...</th>\n      <th>CALTRANS</th>\n      <th>PERCENT_C</th>\n      <th>SF</th>\n      <th>PERCENT_SF</th>\n      <th>PERCENT_PO</th>\n      <th>point</th>\n      <th>SF Find Neighborhoods</th>\n      <th>Current Police Districts</th>\n      <th>Current Supervisor Districts</th>\n      <th>Analysis Neighborhoods</th>\n    </tr>\n  </thead>\n  <tbody>\n    <tr>\n      <th>0</th>\n      <td>16590</td>\n      <td>7210000</td>\n      <td>CALTRANS</td>\n      <td>7210000</td>\n      <td>ALEMANY</td>\n      <td>CUT THROUGH</td>\n      <td>NaN</td>\n      <td>NaN</td>\n      <td>NaN</td>\n      <td>9</td>\n      <td>...</td>\n      <td>NaN</td>\n      <td>0</td>\n      <td>NaN</td>\n      <td>0</td>\n      <td>0</td>\n      <td>(37.73772950544402, -122.40791773568166)</td>\n      <td>83.0</td>\n      <td>2.0</td>\n      <td>2.0</td>\n      <td>25.0</td>\n    </tr>\n    <tr>\n      <th>1</th>\n      <td>15731</td>\n      <td>24440000</td>\n      <td>Fix</td>\n      <td>24440000</td>\n      <td>GOLDEN GATE</td>\n      <td>LARKIN</td>\n      <td>NaN</td>\n      <td>NaN</td>\n      <td>NaN</td>\n      <td>6</td>\n      <td>...</td>\n      <td>NaN</td>\n      <td>0</td>\n      <td>NaN</td>\n      <td>0</td>\n      <td>0</td>\n      <td>(37.78144749458223, -122.41714561229823)</td>\n      <td>21.0</td>\n      <td>5.0</td>\n      <td>10.0</td>\n      <td>36.0</td>\n    </tr>\n    <tr>\n      <th>2</th>\n      <td>16839</td>\n      <td>32891000</td>\n      <td>CALTRANS</td>\n      <td>32891000</td>\n      <td>36TH AVE</td>\n      <td>SLOAT</td>\n      <td>NaN</td>\n      <td>NaN</td>\n      <td>NaN</td>\n      <td>4,7</td>\n      <td>...</td>\n      <td>X</td>\n      <td>100</td>\n      <td>NaN</td>\n      <td>0</td>\n      <td>0</td>\n      <td>(37.734008530048456, -122.49334544424045)</td>\n      <td>40.0</td>\n      <td>10.0</td>\n      <td>8.0</td>\n      <td>35.0</td>\n    </tr>\n    <tr>\n      <th>3</th>\n      <td>16805</td>\n      <td>20872000</td>\n      <td>Beacon</td>\n      <td>20872000</td>\n      <td>JOHN F SHELLEY WEST</td>\n      <td>MANSELL</td>\n      <td>NaN</td>\n      <td>NaN</td>\n      <td>NaN</td>\n      <td>10</td>\n      <td>...</td>\n      <td>NaN</td>\n      <td>0</td>\n      <td>NaN</td>\n      <td>0</td>\n      <td>0</td>\n      <td>(37.71876609066602, -122.41851237031268)</td>\n      <td>73.0</td>\n      <td>9.0</td>\n      <td>9.0</td>\n      <td>19.0</td>\n    </tr>\n    <tr>\n      <th>4</th>\n      <td>16804</td>\n      <td>33338000</td>\n      <td>Beacon</td>\n      <td>33338000</td>\n      <td>BRAZIL</td>\n      <td>MANSELL</td>\n      <td>NaN</td>\n      <td>NaN</td>\n      <td>NaN</td>\n      <td>10</td>\n      <td>...</td>\n      <td>NaN</td>\n      <td>0</td>\n      <td>NaN</td>\n      <td>0</td>\n      <td>0</td>\n      <td>(37.71788737925598, -122.42247298832734)</td>\n      <td>73.0</td>\n      <td>9.0</td>\n      <td>2.0</td>\n      <td>19.0</td>\n    </tr>\n  </tbody>\n</table>\n<p>5 rows \u00d7 40 columns</p>\n</div>",
                        "text/plain": "   OBJECTID       CNN      CODE     CNN_1              STREET1      STREET2  \\\n0     16590   7210000  CALTRANS   7210000              ALEMANY  CUT THROUGH   \n1     15731  24440000       Fix  24440000          GOLDEN GATE       LARKIN   \n2     16839  32891000  CALTRANS  32891000             36TH AVE        SLOAT   \n3     16805  20872000    Beacon  20872000  JOHN F SHELLEY WEST      MANSELL   \n4     16804  33338000    Beacon  33338000               BRAZIL      MANSELL   \n\n  STREET3 STREET4 DETECTION SUP_DIST  ... CALTRANS PERCENT_C   SF PERCENT_SF  \\\n0     NaN     NaN       NaN        9  ...      NaN         0  NaN          0   \n1     NaN     NaN       NaN        6  ...      NaN         0  NaN          0   \n2     NaN     NaN       NaN      4,7  ...        X       100  NaN          0   \n3     NaN     NaN       NaN       10  ...      NaN         0  NaN          0   \n4     NaN     NaN       NaN       10  ...      NaN         0  NaN          0   \n\n  PERCENT_PO                                      point SF Find Neighborhoods  \\\n0          0   (37.73772950544402, -122.40791773568166)                  83.0   \n1          0   (37.78144749458223, -122.41714561229823)                  21.0   \n2          0  (37.734008530048456, -122.49334544424045)                  40.0   \n3          0   (37.71876609066602, -122.41851237031268)                  73.0   \n4          0   (37.71788737925598, -122.42247298832734)                  73.0   \n\n  Current Police Districts Current Supervisor Districts Analysis Neighborhoods  \n0                      2.0                          2.0                   25.0  \n1                      5.0                         10.0                   36.0  \n2                     10.0                          8.0                   35.0  \n3                      9.0                          9.0                   19.0  \n4                      9.0                          2.0                   19.0  \n\n[5 rows x 40 columns]"
                    },
                    "execution_count": 8,
                    "metadata": {},
                    "output_type": "execute_result"
                }
            ],
            "source": "# The code was removed by Watson Studio for sharing."
        },
        {
            "cell_type": "code",
            "execution_count": null,
            "metadata": {},
            "outputs": [],
            "source": ""
        }
    ],
    "metadata": {
        "kernelspec": {
            "display_name": "Python 3.6",
            "language": "python",
            "name": "python3"
        },
        "language_info": {
            "codemirror_mode": {
                "name": "ipython",
                "version": 3
            },
            "file_extension": ".py",
            "mimetype": "text/x-python",
            "name": "python",
            "nbconvert_exporter": "python",
            "pygments_lexer": "ipython3",
            "version": "3.6.8"
        }
    },
    "nbformat": 4,
    "nbformat_minor": 1
}